{
 "cells": [
  {
   "cell_type": "markdown",
   "metadata": {},
   "source": [
    "## Data Loading"
   ]
  },
  {
   "cell_type": "code",
   "execution_count": 1,
   "metadata": {},
   "outputs": [],
   "source": [
    "import torch\n",
    "import torchvision"
   ]
  },
  {
   "cell_type": "code",
   "execution_count": 2,
   "metadata": {},
   "outputs": [],
   "source": [
    "batch_size = 100"
   ]
  },
  {
   "cell_type": "code",
   "execution_count": 3,
   "metadata": {},
   "outputs": [],
   "source": [
    "transform = torchvision.transforms.Compose([\n",
    "    torchvision.transforms.ToTensor(),\n",
    "    torchvision.transforms.Normalize([0.5], [0.5])])"
   ]
  },
  {
   "cell_type": "code",
   "execution_count": 4,
   "metadata": {},
   "outputs": [],
   "source": [
    "train_dataset = torchvision.datasets.MNIST(root='./data', train=True, transform=transform, download=True)\n",
    "test_dataset = torchvision.datasets.MNIST(root='./data', train=False, transform=transform, download=True)"
   ]
  },
  {
   "cell_type": "code",
   "execution_count": 5,
   "metadata": {},
   "outputs": [],
   "source": [
    "train_loader = torch.utils.data.DataLoader(train_dataset, batch_size=batch_size ,shuffle=True)\n",
    "test_loader = torch.utils.data.DataLoader(test_dataset, batch_size=batch_size ,shuffle=True)"
   ]
  },
  {
   "cell_type": "code",
   "execution_count": 6,
   "metadata": {},
   "outputs": [],
   "source": [
    "examples = enumerate(test_loader)\n",
    "batch_idx, (example_data, example_targets) = next(examples)"
   ]
  },
  {
   "cell_type": "code",
   "execution_count": 7,
   "metadata": {},
   "outputs": [
    {
     "data": {
      "text/plain": [
       "torch.Size([100, 1, 28, 28])"
      ]
     },
     "execution_count": 7,
     "metadata": {},
     "output_type": "execute_result"
    }
   ],
   "source": [
    "example_data.shape"
   ]
  },
  {
   "cell_type": "code",
   "execution_count": 8,
   "metadata": {},
   "outputs": [
    {
     "data": {
      "text/plain": [
       "'number of batches: 99'"
      ]
     },
     "execution_count": 8,
     "metadata": {},
     "output_type": "execute_result"
    }
   ],
   "source": [
    "\"number of batches: {0}\".format(len(list(examples)))"
   ]
  },
  {
   "cell_type": "markdown",
   "metadata": {},
   "source": [
    "## Data View"
   ]
  },
  {
   "cell_type": "code",
   "execution_count": 9,
   "metadata": {},
   "outputs": [
    {
     "data": {
      "text/plain": [
       "Text(0.5, 1.0, 'Ground Truth: 7')"
      ]
     },
     "execution_count": 9,
     "metadata": {},
     "output_type": "execute_result"
    }
   ],
   "source": [
    "import matplotlib.pyplot as plt\n",
    "\n",
    "fig = plt.figure()\n",
    "plt.imshow(example_data[0][0], cmap='gray', interpolation='none')\n",
    "plt.title(\"Ground Truth: {}\".format(example_targets[0]))"
   ]
  },
  {
   "cell_type": "markdown",
   "metadata": {},
   "source": [
    "## Generative Adversarial Network Definition"
   ]
  },
  {
   "cell_type": "code",
   "execution_count": 10,
   "metadata": {},
   "outputs": [],
   "source": [
    "import torch.nn as nn\n",
    "import torch.nn.functional as F\n",
    "import torch.optim as optim\n",
    "from torch.autograd import Variable"
   ]
  },
  {
   "cell_type": "code",
   "execution_count": 11,
   "metadata": {},
   "outputs": [],
   "source": [
    "class Generator(nn.Module):\n",
    "    \n",
    "    def __init__(self, g_input_dim, g_output_dim, hidden_size=256):\n",
    "        \n",
    "        super(Generator, self).__init__()      \n",
    "        \n",
    "        self.layer = nn.Sequential(\n",
    "                        nn.Linear(g_input_dim, hidden_size),\n",
    "                        nn.LeakyReLU(0.2),\n",
    "                        nn.Linear(hidden_size, hidden_size*2),\n",
    "                        nn.LeakyReLU(0.2),\n",
    "                        nn.Linear(hidden_size*2, hidden_size*4),\n",
    "                        nn.LeakyReLU(0.2),\n",
    "                        nn.Linear(hidden_size*4, g_output_dim))\n",
    "        \n",
    "        self.output = nn.Tanh()\n",
    "    \n",
    "    # forward method\n",
    "    def forward(self, x): \n",
    "        x = self.layer(x)\n",
    "        return self.output(x)"
   ]
  },
  {
   "cell_type": "code",
   "execution_count": 12,
   "metadata": {},
   "outputs": [],
   "source": [
    "class Discriminator(nn.Module):\n",
    "            \n",
    "    def __init__(self, d_input_dim, hidden_size=1024):\n",
    "            \n",
    "        super(Discriminator, self).__init__()\n",
    "            \n",
    "        self.layer = nn.Sequential(\n",
    "                        nn.Linear(d_input_dim, hidden_size),\n",
    "                        nn.LeakyReLU(0.2),\n",
    "                        nn.Dropout(0.3),       \n",
    "                        nn.Linear(hidden_size, hidden_size//2),\n",
    "                        nn.LeakyReLU(0.2),\n",
    "                        nn.Dropout(0.3),       \n",
    "                        nn.Linear(hidden_size//2, hidden_size//4),\n",
    "                        nn.LeakyReLU(0.2),\n",
    "                        nn.Dropout(0.3),\n",
    "                        nn.Linear(hidden_size//4, 1))\n",
    "            \n",
    "        self.output = nn.Sigmoid()\n",
    "    \n",
    "    # forward method\n",
    "    def forward(self, x):\n",
    "        x = self.layer(x)\n",
    "        return self.output(x)"
   ]
  },
  {
   "cell_type": "markdown",
   "metadata": {},
   "source": [
    "## Pre-Training Parameters"
   ]
  },
  {
   "cell_type": "code",
   "execution_count": 13,
   "metadata": {},
   "outputs": [],
   "source": [
    "z_dim = 100\n",
    "mnist_dim = train_dataset.data.size(1) * train_dataset.data.size(2)\n",
    "\n",
    "G = Generator(g_input_dim = z_dim, g_output_dim = mnist_dim)\n",
    "D = Discriminator(mnist_dim)"
   ]
  },
  {
   "cell_type": "code",
   "execution_count": 14,
   "metadata": {},
   "outputs": [
    {
     "data": {
      "text/plain": [
       "Generator(\n",
       "  (layer): Sequential(\n",
       "    (0): Linear(in_features=100, out_features=256, bias=True)\n",
       "    (1): LeakyReLU(negative_slope=0.2)\n",
       "    (2): Linear(in_features=256, out_features=512, bias=True)\n",
       "    (3): LeakyReLU(negative_slope=0.2)\n",
       "    (4): Linear(in_features=512, out_features=1024, bias=True)\n",
       "    (5): LeakyReLU(negative_slope=0.2)\n",
       "    (6): Linear(in_features=1024, out_features=784, bias=True)\n",
       "  )\n",
       "  (output): Tanh()\n",
       ")"
      ]
     },
     "execution_count": 14,
     "metadata": {},
     "output_type": "execute_result"
    }
   ],
   "source": [
    "G"
   ]
  },
  {
   "cell_type": "code",
   "execution_count": 15,
   "metadata": {},
   "outputs": [
    {
     "data": {
      "text/plain": [
       "Discriminator(\n",
       "  (layer): Sequential(\n",
       "    (0): Linear(in_features=784, out_features=1024, bias=True)\n",
       "    (1): LeakyReLU(negative_slope=0.2)\n",
       "    (2): Dropout(p=0.3, inplace=False)\n",
       "    (3): Linear(in_features=1024, out_features=512, bias=True)\n",
       "    (4): LeakyReLU(negative_slope=0.2)\n",
       "    (5): Dropout(p=0.3, inplace=False)\n",
       "    (6): Linear(in_features=512, out_features=256, bias=True)\n",
       "    (7): LeakyReLU(negative_slope=0.2)\n",
       "    (8): Dropout(p=0.3, inplace=False)\n",
       "    (9): Linear(in_features=256, out_features=1, bias=True)\n",
       "  )\n",
       "  (output): Sigmoid()\n",
       ")"
      ]
     },
     "execution_count": 15,
     "metadata": {},
     "output_type": "execute_result"
    }
   ],
   "source": [
    "D"
   ]
  },
  {
   "cell_type": "code",
   "execution_count": 16,
   "metadata": {},
   "outputs": [],
   "source": [
    "# loss\n",
    "loss = nn.BCELoss() \n",
    "\n",
    "# optimizer\n",
    "lr = 0.0002 \n",
    "G_optimizer = optim.Adam(G.parameters(), lr = lr)\n",
    "D_optimizer = optim.Adam(D.parameters(), lr = lr)"
   ]
  },
  {
   "cell_type": "markdown",
   "metadata": {},
   "source": [
    "## Training"
   ]
  },
  {
   "cell_type": "code",
   "execution_count": 17,
   "metadata": {},
   "outputs": [],
   "source": [
    "n_epoch = 100"
   ]
  },
  {
   "cell_type": "code",
   "execution_count": 18,
   "metadata": {},
   "outputs": [],
   "source": [
    "def G_train(x):\n",
    "    \n",
    "    G.zero_grad()\n",
    "\n",
    "    z = Variable(torch.randn(batch_size, z_dim))\n",
    "    y = Variable(torch.ones(batch_size, 1))\n",
    "\n",
    "    G_output = G(z)\n",
    "    D_output = D(G_output)\n",
    "    G_loss = loss(D_output, y)\n",
    "\n",
    "    G_loss.backward()\n",
    "    G_optimizer.step()\n",
    "        \n",
    "    return G_loss.data.item()"
   ]
  },
  {
   "cell_type": "code",
   "execution_count": 19,
   "metadata": {},
   "outputs": [],
   "source": [
    "def D_train(x):\n",
    "    \n",
    "    D.zero_grad()\n",
    "\n",
    "    x_real, y_real = x.view(-1, mnist_dim), torch.ones(batch_size, 1)\n",
    "    x_real, y_real = Variable(x_real), Variable(y_real)\n",
    "\n",
    "    D_output = D(x_real)\n",
    "    D_real_loss = loss(D_output, y_real)\n",
    "    D_real_score = D_output\n",
    "\n",
    "    z = Variable(torch.randn(batch_size, z_dim))\n",
    "    x_fake, y_fake = G(z), Variable(torch.zeros(batch_size, 1))\n",
    "\n",
    "    D_output = D(x_fake)\n",
    "    D_fake_loss = loss(D_output, y_fake)\n",
    "    D_fake_score = D_output\n",
    "\n",
    "    D_loss = D_real_loss + D_fake_loss\n",
    "    D_loss.backward()\n",
    "    D_optimizer.step()\n",
    "        \n",
    "    return  D_loss.data.item()"
   ]
  },
  {
   "cell_type": "code",
   "execution_count": 20,
   "metadata": {},
   "outputs": [
    {
     "name": "stdout",
     "output_type": "stream",
     "text": [
      "[1/100]: loss_d: 0.761, loss_g: 4.021\n",
      "[2/100]: loss_d: 0.984, loss_g: 1.987\n",
      "[3/100]: loss_d: 0.932, loss_g: 2.087\n",
      "[4/100]: loss_d: 0.779, loss_g: 2.110\n",
      "[5/100]: loss_d: 0.502, loss_g: 2.907\n",
      "[6/100]: loss_d: 0.555, loss_g: 2.623\n",
      "[7/100]: loss_d: 0.597, loss_g: 2.502\n",
      "[8/100]: loss_d: 0.560, loss_g: 2.512\n",
      "[9/100]: loss_d: 0.649, loss_g: 2.350\n",
      "[10/100]: loss_d: 0.686, loss_g: 2.257\n",
      "[11/100]: loss_d: 0.696, loss_g: 2.273\n",
      "[12/100]: loss_d: 0.731, loss_g: 2.091\n",
      "[13/100]: loss_d: 0.792, loss_g: 1.965\n",
      "[14/100]: loss_d: 0.778, loss_g: 2.004\n",
      "[15/100]: loss_d: 0.802, loss_g: 1.889\n",
      "[16/100]: loss_d: 0.791, loss_g: 1.968\n",
      "[17/100]: loss_d: 0.797, loss_g: 1.900\n",
      "[18/100]: loss_d: 0.830, loss_g: 1.879\n",
      "[19/100]: loss_d: 0.834, loss_g: 1.804\n",
      "[20/100]: loss_d: 0.872, loss_g: 1.732\n",
      "[21/100]: loss_d: 0.869, loss_g: 1.702\n",
      "[22/100]: loss_d: 0.926, loss_g: 1.608\n",
      "[23/100]: loss_d: 0.905, loss_g: 1.654\n",
      "[24/100]: loss_d: 0.941, loss_g: 1.590\n",
      "[25/100]: loss_d: 0.938, loss_g: 1.566\n",
      "[26/100]: loss_d: 0.953, loss_g: 1.508\n",
      "[27/100]: loss_d: 1.003, loss_g: 1.389\n",
      "[28/100]: loss_d: 0.992, loss_g: 1.433\n",
      "[29/100]: loss_d: 0.989, loss_g: 1.447\n",
      "[30/100]: loss_d: 1.007, loss_g: 1.428\n",
      "[31/100]: loss_d: 1.010, loss_g: 1.399\n",
      "[32/100]: loss_d: 1.027, loss_g: 1.354\n",
      "[33/100]: loss_d: 1.003, loss_g: 1.393\n",
      "[34/100]: loss_d: 1.050, loss_g: 1.300\n",
      "[35/100]: loss_d: 1.046, loss_g: 1.320\n",
      "[36/100]: loss_d: 1.033, loss_g: 1.332\n",
      "[37/100]: loss_d: 1.064, loss_g: 1.289\n",
      "[38/100]: loss_d: 1.059, loss_g: 1.292\n",
      "[39/100]: loss_d: 1.078, loss_g: 1.248\n",
      "[40/100]: loss_d: 1.101, loss_g: 1.201\n",
      "[41/100]: loss_d: 1.090, loss_g: 1.206\n",
      "[42/100]: loss_d: 1.106, loss_g: 1.194\n",
      "[43/100]: loss_d: 1.132, loss_g: 1.158\n",
      "[44/100]: loss_d: 1.123, loss_g: 1.176\n",
      "[45/100]: loss_d: 1.148, loss_g: 1.117\n",
      "[46/100]: loss_d: 1.128, loss_g: 1.146\n",
      "[47/100]: loss_d: 1.142, loss_g: 1.122\n",
      "[48/100]: loss_d: 1.158, loss_g: 1.097\n",
      "[49/100]: loss_d: 1.154, loss_g: 1.110\n",
      "[50/100]: loss_d: 1.150, loss_g: 1.106\n",
      "[51/100]: loss_d: 1.151, loss_g: 1.109\n",
      "[52/100]: loss_d: 1.169, loss_g: 1.088\n",
      "[53/100]: loss_d: 1.160, loss_g: 1.087\n",
      "[54/100]: loss_d: 1.156, loss_g: 1.108\n",
      "[55/100]: loss_d: 1.183, loss_g: 1.079\n",
      "[56/100]: loss_d: 1.171, loss_g: 1.072\n",
      "[57/100]: loss_d: 1.182, loss_g: 1.057\n",
      "[58/100]: loss_d: 1.186, loss_g: 1.055\n",
      "[59/100]: loss_d: 1.187, loss_g: 1.056\n",
      "[60/100]: loss_d: 1.183, loss_g: 1.053\n",
      "[61/100]: loss_d: 1.185, loss_g: 1.049\n",
      "[62/100]: loss_d: 1.200, loss_g: 1.021\n",
      "[63/100]: loss_d: 1.198, loss_g: 1.030\n",
      "[64/100]: loss_d: 1.203, loss_g: 1.020\n",
      "[65/100]: loss_d: 1.198, loss_g: 1.026\n",
      "[66/100]: loss_d: 1.204, loss_g: 1.025\n",
      "[67/100]: loss_d: 1.204, loss_g: 1.025\n",
      "[68/100]: loss_d: 1.208, loss_g: 1.009\n",
      "[69/100]: loss_d: 1.216, loss_g: 0.997\n",
      "[70/100]: loss_d: 1.214, loss_g: 1.002\n",
      "[71/100]: loss_d: 1.215, loss_g: 1.003\n",
      "[72/100]: loss_d: 1.226, loss_g: 0.973\n",
      "[73/100]: loss_d: 1.221, loss_g: 0.999\n",
      "[74/100]: loss_d: 1.224, loss_g: 0.987\n",
      "[75/100]: loss_d: 1.230, loss_g: 0.976\n",
      "[76/100]: loss_d: 1.236, loss_g: 0.967\n",
      "[77/100]: loss_d: 1.236, loss_g: 0.961\n",
      "[78/100]: loss_d: 1.236, loss_g: 0.972\n",
      "[79/100]: loss_d: 1.236, loss_g: 0.970\n",
      "[80/100]: loss_d: 1.238, loss_g: 0.964\n",
      "[81/100]: loss_d: 1.228, loss_g: 0.981\n",
      "[82/100]: loss_d: 1.241, loss_g: 0.957\n",
      "[83/100]: loss_d: 1.242, loss_g: 0.950\n",
      "[84/100]: loss_d: 1.239, loss_g: 0.955\n",
      "[85/100]: loss_d: 1.254, loss_g: 0.936\n",
      "[86/100]: loss_d: 1.248, loss_g: 0.946\n",
      "[87/100]: loss_d: 1.240, loss_g: 0.958\n",
      "[88/100]: loss_d: 1.247, loss_g: 0.945\n",
      "[89/100]: loss_d: 1.245, loss_g: 0.957\n",
      "[90/100]: loss_d: 1.239, loss_g: 0.953\n",
      "[91/100]: loss_d: 1.247, loss_g: 0.943\n",
      "[92/100]: loss_d: 1.255, loss_g: 0.929\n",
      "[93/100]: loss_d: 1.254, loss_g: 0.926\n",
      "[94/100]: loss_d: 1.248, loss_g: 0.955\n",
      "[95/100]: loss_d: 1.251, loss_g: 0.941\n",
      "[96/100]: loss_d: 1.256, loss_g: 0.934\n",
      "[97/100]: loss_d: 1.256, loss_g: 0.925\n",
      "[98/100]: loss_d: 1.256, loss_g: 0.918\n",
      "[99/100]: loss_d: 1.261, loss_g: 0.928\n",
      "[100/100]: loss_d: 1.258, loss_g: 0.923\n"
     ]
    }
   ],
   "source": [
    "for epoch in range(1, n_epoch+1):           \n",
    "    D_losses, G_losses = [], []\n",
    "    for batch_idx, (x, _) in enumerate(train_loader):\n",
    "        D_losses.append(D_train(x))\n",
    "        G_losses.append(G_train(x))\n",
    "\n",
    "    print('[%d/%d]: loss_d: %.3f, loss_g: %.3f' % (\n",
    "            (epoch), n_epoch, torch.mean(torch.FloatTensor(D_losses)), torch.mean(torch.FloatTensor(G_losses))))"
   ]
  },
  {
   "cell_type": "markdown",
   "metadata": {},
   "source": [
    "## Save Model"
   ]
  },
  {
   "cell_type": "code",
   "execution_count": 22,
   "metadata": {},
   "outputs": [],
   "source": [
    "torch.save(D.state_dict(), 'model/Discriminator.pth')\n",
    "torch.save(G.state_dict(), 'model/Generator.pth')"
   ]
  },
  {
   "cell_type": "code",
   "execution_count": null,
   "metadata": {},
   "outputs": [],
   "source": [
    "with torch.no_grad():\n",
    "    test_z = Variable(torch.randn(batch_size, z_dim))\n",
    "    generated = G(test_z)\n",
    "\n",
    "    save_image(generated.view(generated.size(0), 1, 28, 28), './samples/sample_' + '.png')"
   ]
  }
 ],
 "metadata": {
  "kernelspec": {
   "display_name": "Python [conda env:gan] *",
   "language": "python",
   "name": "conda-env-gan-py"
  },
  "language_info": {
   "codemirror_mode": {
    "name": "ipython",
    "version": 3
   },
   "file_extension": ".py",
   "mimetype": "text/x-python",
   "name": "python",
   "nbconvert_exporter": "python",
   "pygments_lexer": "ipython3",
   "version": "3.7.4"
  }
 },
 "nbformat": 4,
 "nbformat_minor": 2
}